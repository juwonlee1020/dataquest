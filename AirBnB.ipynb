{
 "cells": [
  {
   "cell_type": "markdown",
   "metadata": {},
   "source": [
    "# AirBnB listings from DC area"
   ]
  },
  {
   "cell_type": "code",
   "execution_count": 141,
   "metadata": {
    "collapsed": true
   },
   "outputs": [],
   "source": [
    "import pandas as pd\n",
    "import numpy as np"
   ]
  },
  {
   "cell_type": "code",
   "execution_count": 142,
   "metadata": {
    "collapsed": true
   },
   "outputs": [],
   "source": [
    "dc_listings = pd.read_csv(\"dc_airbnb.csv\")"
   ]
  },
  {
   "cell_type": "code",
   "execution_count": 143,
   "metadata": {},
   "outputs": [],
   "source": [
    "stripped_commas = dc_listings[\"price\"].str.replace(\",\", \"\") #get rid of commas\n",
    "stripped_dollars = stripped_commas.str.replace(\"$\", \"\") #get rid of dollar signs\n",
    "dc_listings[\"price\"] = stripped_dollars.astype(\"float\") #convert string to float\n",
    "#np.random.permutation(int n) returns an array of n randomly-ordered integers\n",
    "dc_listings = dc_listings.loc[np.random.permutation(len(dc_listings))] "
   ]
  },
  {
   "cell_type": "markdown",
   "metadata": {},
   "source": [
    "## Using K-Nearest Neighbors to predict the price of AirBnb listing based on its attributes\n",
    "<br>\n",
    "-find a few similar listings <br>\n",
    "-calculate the average price of those listings <br>\n",
    "-set the average price as the price for our listing"
   ]
  },
  {
   "cell_type": "markdown",
   "metadata": {},
   "source": [
    "## 1. Without Scikit Learn\n",
    "\n",
    "1. calculates distance by taking the absolute difference between the accommodates value and new_listing <br>\n",
    "2. sorts the dataframe in ascending order of distance <br>\n",
    "3. takes the average of first 5 listings' price (k=5)"
   ]
  },
  {
   "cell_type": "code",
   "execution_count": 144,
   "metadata": {},
   "outputs": [],
   "source": [
    "def predict_price(new_listing):\n",
    "    temp_df = dc_listings.copy()\n",
    "    temp_df[\"distance\"] = temp_df[\"accommodates\"].apply(lambda x: np.abs(new_listing - x))\n",
    "    temp_df = temp_df.sort_values(\"distance\", ascending=True)\n",
    "    suggested_price = temp_df.head(5)[\"price\"].mean()\n",
    "    return(suggested_price)"
   ]
  },
  {
   "cell_type": "code",
   "execution_count": 145,
   "metadata": {},
   "outputs": [],
   "source": [
    "accommodates_one = predict_price(1)\n",
    "accommodates_two = predict_price(2)\n",
    "accommodates_three = predict_price(3)"
   ]
  },
  {
   "cell_type": "code",
   "execution_count": 146,
   "metadata": {},
   "outputs": [
    {
     "name": "stdout",
     "output_type": "stream",
     "text": [
      "57.8\n",
      "113.6\n",
      "205.6\n"
     ]
    }
   ],
   "source": [
    "print(accommodates_one)\n",
    "print(accommodates_two)\n",
    "print(accommodates_three)"
   ]
  },
  {
   "cell_type": "markdown",
   "metadata": {},
   "source": [
    "### Error metrics\n",
    "Mean Squared Error: (actual1 - predicted1)^2 + (actual2 - predicted2)^2 + .... / n <br>\n",
    "Root Mean Squared Error: np.sqrt(mean_squared_error)"
   ]
  },
  {
   "cell_type": "code",
   "execution_count": 147,
   "metadata": {},
   "outputs": [
    {
     "name": "stderr",
     "output_type": "stream",
     "text": [
      "C:\\Program Files\\Anaconda3\\lib\\site-packages\\ipykernel_launcher.py:9: SettingWithCopyWarning: \n",
      "A value is trying to be set on a copy of a slice from a DataFrame.\n",
      "Try using .loc[row_indexer,col_indexer] = value instead\n",
      "\n",
      "See the caveats in the documentation: http://pandas.pydata.org/pandas-docs/stable/indexing.html#indexing-view-versus-copy\n",
      "  if __name__ == '__main__':\n",
      "C:\\Program Files\\Anaconda3\\lib\\site-packages\\ipykernel_launcher.py:10: SettingWithCopyWarning: \n",
      "A value is trying to be set on a copy of a slice from a DataFrame.\n",
      "Try using .loc[row_indexer,col_indexer] = value instead\n",
      "\n",
      "See the caveats in the documentation: http://pandas.pydata.org/pandas-docs/stable/indexing.html#indexing-view-versus-copy\n",
      "  # Remove the CWD from sys.path while we load stuff.\n"
     ]
    }
   ],
   "source": [
    "train_df = dc_listings.iloc[0:2792]\n",
    "test_df = dc_listings.iloc[2792:]\n",
    "\n",
    "def predict_price(new_listing):\n",
    "    temp_df = train_df.copy()\n",
    "    temp_df[\"distance\"] = temp_df[\"accommodates\"].apply(lambda x: x-new_listing)\n",
    "    temp_df.sort_values(\"distance\")\n",
    "    return temp_df.head(5)[\"price\"].mean()\n",
    "test_df[\"predicted_prices\"] = test_df[\"accommodates\"].apply(lambda x: predict_price(x))\n",
    "test_df[\"difference\"] = test_df[\"price\"] - test_df[\"predicted_prices\"]\n",
    "mean_squared_error = test_df[\"difference\"].apply(lambda x: x**2).mean()\n"
   ]
  },
  {
   "cell_type": "code",
   "execution_count": 148,
   "metadata": {},
   "outputs": [
    {
     "data": {
      "text/plain": [
       "21887.090053705582"
      ]
     },
     "execution_count": 148,
     "metadata": {},
     "output_type": "execute_result"
    }
   ],
   "source": [
    "mean_squared_error"
   ]
  },
  {
   "cell_type": "code",
   "execution_count": 149,
   "metadata": {
    "collapsed": true
   },
   "outputs": [],
   "source": [
    "root_mean_squared_error = np.sqrt(mean_squared_error)"
   ]
  },
  {
   "cell_type": "code",
   "execution_count": 150,
   "metadata": {},
   "outputs": [
    {
     "data": {
      "text/plain": [
       "147.94286077302135"
      ]
     },
     "execution_count": 150,
     "metadata": {},
     "output_type": "execute_result"
    }
   ],
   "source": [
    "root_mean_squared_error"
   ]
  },
  {
   "cell_type": "markdown",
   "metadata": {},
   "source": [
    "## With Scikit Learn\n",
    "### Using KNeighborsRegressor from neighbors family"
   ]
  },
  {
   "cell_type": "code",
   "execution_count": 151,
   "metadata": {
    "collapsed": true
   },
   "outputs": [],
   "source": [
    "from sklearn.neighbors import KNeighborsRegressor"
   ]
  },
  {
   "cell_type": "markdown",
   "metadata": {},
   "source": [
    "### Remove columns whose values \n",
    "1. contain non-numerical values <br>\n",
    "2. contain non-ordinal values <br>\n",
    "3. contain too many missing values\n",
    "\n",
    "### Remove rows who have missing values for the rest of the columns"
   ]
  },
  {
   "cell_type": "code",
   "execution_count": 152,
   "metadata": {},
   "outputs": [],
   "source": [
    "dc_listings = dc_listings.drop([\"room_type\", \"city\", \"state\", \"latitude\", \"longitude\", \"zipcode\", \"host_response_rate\", \"host_acceptance_rate\", \"host_listings_count\"], axis=1)"
   ]
  },
  {
   "cell_type": "code",
   "execution_count": 153,
   "metadata": {
    "collapsed": true
   },
   "outputs": [],
   "source": [
    "dc_listings = dc_listings.drop([\"cleaning_fee\", \"security_deposit\"], axis=1)"
   ]
  },
  {
   "cell_type": "code",
   "execution_count": 154,
   "metadata": {},
   "outputs": [],
   "source": [
    "dc_listings = dc_listings.dropna(axis=0)"
   ]
  },
  {
   "cell_type": "markdown",
   "metadata": {},
   "source": [
    " ### Normalize all the columns except for the target column (price column)\n",
    "x - x.mean() / x.std()"
   ]
  },
  {
   "cell_type": "code",
   "execution_count": 155,
   "metadata": {
    "collapsed": true
   },
   "outputs": [],
   "source": [
    "normalized_listings = (dc_listings - dc_listings.mean()) / dc_listings.std()"
   ]
  },
  {
   "cell_type": "code",
   "execution_count": 156,
   "metadata": {
    "collapsed": true
   },
   "outputs": [],
   "source": [
    "normalized_listings[\"price\"] = dc_listings[\"price\"]"
   ]
  },
  {
   "cell_type": "markdown",
   "metadata": {},
   "source": [
    "### Split into train_df and test_df using train_test_split"
   ]
  },
  {
   "cell_type": "code",
   "execution_count": 157,
   "metadata": {
    "collapsed": true
   },
   "outputs": [],
   "source": [
    "from sklearn.model_selection import train_test_split"
   ]
  },
  {
   "cell_type": "code",
   "execution_count": 158,
   "metadata": {},
   "outputs": [],
   "source": [
    "columns = list(normalized_listings.columns)\n",
    "columns.remove(\"price\")\n",
    "X = normalized_listings[columns]"
   ]
  },
  {
   "cell_type": "code",
   "execution_count": 159,
   "metadata": {},
   "outputs": [],
   "source": [
    "Y = normalized_listings[\"price\"]"
   ]
  },
  {
   "cell_type": "code",
   "execution_count": 160,
   "metadata": {},
   "outputs": [],
   "source": [
    "X_train, X_test, Y_train, Y_test = train_test_split(X, Y, test_size = 0.3)"
   ]
  },
  {
   "cell_type": "markdown",
   "metadata": {},
   "source": [
    "### Following the general scikit-learn workflow <br>\n",
    "1. instantiate the specific machine learning model you want to use\n",
    "2. fit the model to the training data\n",
    "3. use the model to make predictions\n",
    "4. evaluate the accuracy of the predictions"
   ]
  },
  {
   "cell_type": "code",
   "execution_count": 161,
   "metadata": {
    "collapsed": true
   },
   "outputs": [],
   "source": [
    "knn = KNeighborsRegressor()\n",
    "knn.fit(X_train, Y_train)\n",
    "predictions = knn.predict(X_test)"
   ]
  },
  {
   "cell_type": "markdown",
   "metadata": {},
   "source": [
    "### Error Metrics using Sklearn.metrics"
   ]
  },
  {
   "cell_type": "code",
   "execution_count": 162,
   "metadata": {
    "collapsed": true
   },
   "outputs": [],
   "source": [
    "from sklearn.metrics import mean_squared_error"
   ]
  },
  {
   "cell_type": "code",
   "execution_count": 163,
   "metadata": {
    "collapsed": true
   },
   "outputs": [],
   "source": [
    "mse = mean_squared_error(predictions, Y_test)"
   ]
  },
  {
   "cell_type": "code",
   "execution_count": 164,
   "metadata": {
    "collapsed": true
   },
   "outputs": [],
   "source": [
    "rmse = np.sqrt(mse)"
   ]
  },
  {
   "cell_type": "code",
   "execution_count": 165,
   "metadata": {},
   "outputs": [
    {
     "name": "stdout",
     "output_type": "stream",
     "text": [
      "18340.4812704\n",
      "135.427033012\n"
     ]
    }
   ],
   "source": [
    "print(mse)\n",
    "print(rmse)"
   ]
  },
  {
   "cell_type": "markdown",
   "metadata": {},
   "source": [
    "## Hyperparameter Optimization\n",
    "Hyperparameters: values that affect the behavior and performance of a model that are unrelated to the data used (ex: k value in KNeighbors Regressor) <br>\n",
    "Using grid search: <br>\n",
    "1. select a subset of the possible hyperparameter values <br>\n",
    "2. train a model using each of these hyperparameter values <br>\n",
    "3. evaluate each model's performance <br>\n",
    "4. select the hyperparameter value that results in the lowest error value "
   ]
  },
  {
   "cell_type": "code",
   "execution_count": 187,
   "metadata": {
    "collapsed": true
   },
   "outputs": [],
   "source": [
    "hyperparameters = [x for x in range(1,21)]\n",
    "mse_values = list()\n",
    "features = [\"accommodates\", \"bedrooms\", \"bathrooms\", \"number_of_reviews\"]"
   ]
  },
  {
   "cell_type": "code",
   "execution_count": 188,
   "metadata": {},
   "outputs": [],
   "source": [
    "X_hp = normalized_listings[features]\n",
    "Y_hp = normalized_listings[\"price\"]\n",
    "X_train_hp, X_test_hp, Y_train_hp, Y_test_hp = train_test_split(X_hp, Y_hp, test_size=0.3) "
   ]
  },
  {
   "cell_type": "code",
   "execution_count": 189,
   "metadata": {},
   "outputs": [],
   "source": [
    "for param in hyperparameters:\n",
    "    knn = KNeighborsRegressor(algorithm=\"brute\", n_neighbors=param)\n",
    "    knn.fit(X_train_hp, Y_train_hp)\n",
    "    predictions = knn.predict(X_test_hp)\n",
    "    mse_values.append(mean_squared_error(predictions, Y_test_hp))"
   ]
  },
  {
   "cell_type": "code",
   "execution_count": 190,
   "metadata": {},
   "outputs": [
    {
     "name": "stdout",
     "output_type": "stream",
     "text": [
      "19\n",
      "12466.1928652\n"
     ]
    }
   ],
   "source": [
    "print(np.argmin(mse_values)) #error becomes lowest when k = 5\n",
    "print(np.min(mse_values))"
   ]
  },
  {
   "cell_type": "code",
   "execution_count": 191,
   "metadata": {},
   "outputs": [
    {
     "data": {
      "text/plain": [
       "[25175.951905626134,\n",
       " 20506.639065335752,\n",
       " 16752.028332325066,\n",
       " 14199.467729128857,\n",
       " 13872.252849364791,\n",
       " 13543.392039725752,\n",
       " 13664.387625467611,\n",
       " 13481.72260662432,\n",
       " 13357.099471219557,\n",
       " 12981.378393829404,\n",
       " 12691.601378410405,\n",
       " 12633.646116908651,\n",
       " 12611.073191292859,\n",
       " 12711.540927441756,\n",
       " 12691.238552127446,\n",
       " 12662.408387448957,\n",
       " 12666.469608575788,\n",
       " 12543.526548251211,\n",
       " 12515.786708628482,\n",
       " 12466.192865245008]"
      ]
     },
     "execution_count": 191,
     "metadata": {},
     "output_type": "execute_result"
    }
   ],
   "source": [
    "mse_values"
   ]
  },
  {
   "cell_type": "markdown",
   "metadata": {},
   "source": [
    "### K-fold Cross Validation\n",
    "1. Split the full dataset into k equal length partitions <br>\n",
    "2. Select the k-1 partitions as training set and the remaining 1 partition as test set <br>\n",
    "3. Train the model on the training set\n",
    "4. Use the trained model to predict labels on the test fold\n",
    "5. Compute the test fold's error metric\n",
    "6. Repeat the steps k-1 times until each partition has been used as the test set\n",
    "7. calculate the mean of the k error values\n",
    "\n",
    "### Hold-out validation\n",
    "= 2-fold cross validation"
   ]
  },
  {
   "cell_type": "code",
   "execution_count": 192,
   "metadata": {
    "collapsed": true
   },
   "outputs": [],
   "source": [
    "from sklearn.model_selection import cross_val_score, KFold"
   ]
  },
  {
   "cell_type": "code",
   "execution_count": 198,
   "metadata": {},
   "outputs": [],
   "source": [
    "knn = KNeighborsRegressor()\n",
    "kf = KFold(n_splits=10, shuffle=True) #usually k=10 is the standard k value\n",
    "mses = cross_val_score(estimator = knn, X=normalized_listings[features], y=normalized_listings[\"price\"], scoring=\"neg_mean_squared_error\", cv=kf)\n",
    "rmses = np.sqrt(np.abs(mses))\n",
    "avg_rmse = rmses.mean()"
   ]
  },
  {
   "cell_type": "code",
   "execution_count": 199,
   "metadata": {},
   "outputs": [
    {
     "data": {
      "text/plain": [
       "114.62880951226593"
      ]
     },
     "execution_count": 199,
     "metadata": {},
     "output_type": "execute_result"
    }
   ],
   "source": [
    "avg_rmse"
   ]
  },
  {
   "cell_type": "code",
   "execution_count": null,
   "metadata": {
    "collapsed": true
   },
   "outputs": [],
   "source": []
  }
 ],
 "metadata": {
  "kernelspec": {
   "display_name": "Python 3",
   "language": "python",
   "name": "python3"
  },
  "language_info": {
   "codemirror_mode": {
    "name": "ipython",
    "version": 3
   },
   "file_extension": ".py",
   "mimetype": "text/x-python",
   "name": "python",
   "nbconvert_exporter": "python",
   "pygments_lexer": "ipython3",
   "version": "3.6.1"
  }
 },
 "nbformat": 4,
 "nbformat_minor": 2
}
